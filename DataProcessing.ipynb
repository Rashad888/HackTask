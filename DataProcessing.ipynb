{
 "cells": [
  {
   "cell_type": "code",
   "execution_count": 39,
   "metadata": {},
   "outputs": [],
   "source": [
    "import pandas as pd\n",
    "from pathlib import Path"
   ]
  },
  {
   "cell_type": "markdown",
   "metadata": {},
   "source": [
    "## Конвертация .txt в .csv"
   ]
  },
  {
   "cell_type": "code",
   "execution_count": 31,
   "metadata": {},
   "outputs": [],
   "source": [
    "def convertToCsv(filename , outputfile): # Конвертация .txt файла в .csv\n",
    "    with open(filename) as infile, open(outputfile,'w') as outfile: \n",
    "        for line in infile: \n",
    "            outfile.write(line.replace(' ',','))\n",
    "    return"
   ]
  },
  {
   "cell_type": "code",
   "execution_count": 33,
   "metadata": {},
   "outputs": [],
   "source": [
    "convertToCsv('data/BadTracksHackaton1801.txt' , 'bad1801.csv')\n",
    "convertToCsv('data/BadTracksHackaton2101.txt' , 'bad2101.csv')\n",
    "convertToCsv('data/BadTracksHackaton2301.txt' , 'bad2301.csv')\n",
    "convertToCsv('data/GoodTracksHackaton1801.txt' , 'good1801.csv')\n",
    "convertToCsv('data/GoodTracksHackaton2101.txt' , 'good2101.csv')\n",
    "convertToCsv('data/GoodTracksHackaton2301.txt' , 'good2301.csv')"
   ]
  },
  {
   "cell_type": "markdown",
   "metadata": {},
   "source": [
    "## Создание целевой переменной"
   ]
  },
  {
   "cell_type": "code",
   "execution_count": 32,
   "metadata": {},
   "outputs": [],
   "source": [
    "def create_target(file , targetValue):\n",
    "    csv_input = pd.read_csv(file)\n",
    "    csv_input['target'] = targetValue\n",
    "    csv_input.to_csv(file, index=False)"
   ]
  },
  {
   "cell_type": "code",
   "execution_count": 34,
   "metadata": {},
   "outputs": [],
   "source": [
    "create_target('bad1801.csv' , 0)\n",
    "create_target('bad2101.csv' , 0)\n",
    "create_target('bad2301.csv' , 0)\n",
    "create_target('good1801.csv' , 1)\n",
    "create_target('good2101.csv' , 1)\n",
    "create_target('good2301.csv' , 1)"
   ]
  },
  {
   "cell_type": "markdown",
   "metadata": {},
   "source": [
    "## Объединение csv файлов"
   ]
  },
  {
   "cell_type": "code",
   "execution_count": 40,
   "metadata": {},
   "outputs": [],
   "source": [
    "data_dir = Path(\"train_test/\")\n",
    "\n",
    "df = pd.concat([pd.read_csv(f) for f in data_dir.glob(\"*.csv\")], ignore_index=True)\n",
    "df.to_csv(\"result.csv\", index=False)"
   ]
  }
 ],
 "metadata": {
  "kernelspec": {
   "display_name": "Python 3",
   "language": "python",
   "name": "python3"
  },
  "language_info": {
   "codemirror_mode": {
    "name": "ipython",
    "version": 3
   },
   "file_extension": ".py",
   "mimetype": "text/x-python",
   "name": "python",
   "nbconvert_exporter": "python",
   "pygments_lexer": "ipython3",
   "version": "3.7.6"
  }
 },
 "nbformat": 4,
 "nbformat_minor": 4
}
